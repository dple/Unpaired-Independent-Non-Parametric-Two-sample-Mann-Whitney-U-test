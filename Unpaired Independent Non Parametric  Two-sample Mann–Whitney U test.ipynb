{
 "cells": [
  {
   "cell_type": "markdown",
   "metadata": {},
   "source": [
    "### Unpaired(Independent) Non Parametric Two-sample Mann–Whitney U test ###"
   ]
  },
  {
   "cell_type": "markdown",
   "metadata": {},
   "source": [
    "***\n",
    "\n",
    "**Where We Can Apply Unpaired Non Parametric Two-sample Mann–Whitney U test ?**\n",
    "\n",
    "- two groups needs to be independent\n",
    "\n"
   ]
  },
  {
   "cell_type": "markdown",
   "metadata": {},
   "source": [
    "\n",
    "### Outline for performing Unpaired Non Parametric Two-sample Mann–Whitney U test ###\n",
    "\n",
    "1. Formulate Problem statement(research question) and hypothesis(two different type)\n",
    "2. Import data\n",
    "3. Check Appropriate data\n",
    "4. compute Mann–Whitney U test\n",
    "5. interpret result"
   ]
  },
  {
   "cell_type": "markdown",
   "metadata": {},
   "source": [
    "### Implementation section ###"
   ]
  },
  {
   "cell_type": "markdown",
   "metadata": {},
   "source": [
    "### 1. Problem statement(Research Question)\n",
    "**Are Pooh's scores significantly different from those of Piglet?.**\n"
   ]
  },
  {
   "cell_type": "markdown",
   "metadata": {},
   "source": [
    "### Formulate hypothesis ###\n",
    "\n",
    "Two types:\n",
    "\n",
    "If the distributions of the two groups are similar in shape and spread:   \n",
    "•  Null hypothesis:  The medians of values for each group are equal.   \n",
    "•  Alternative hypothesis (two-sided): The medians of values for each group are not equal.\n",
    "\n",
    "If the distributions of the two groups are not similar in shape and spread:   \n",
    "•  Null hypothesis:  The two groups exhibit stochastic equality.   \n",
    "•  Alternative hypothesis (two-sided): The two groups do not exhibit stochastic equality.\n",
    "\n",
    "**Important:two tailed hypothesis**"
   ]
  },
  {
   "cell_type": "markdown",
   "metadata": {},
   "source": [
    "### 2. Import data ###"
   ]
  },
  {
   "cell_type": "code",
   "execution_count": 2,
   "metadata": {},
   "outputs": [],
   "source": [
    "import pandas as pd"
   ]
  },
  {
   "cell_type": "code",
   "execution_count": 37,
   "metadata": {},
   "outputs": [
    {
     "data": {
      "text/plain": [
       "(20, 2)"
      ]
     },
     "execution_count": 37,
     "metadata": {},
     "output_type": "execute_result"
    }
   ],
   "source": [
    "data=pd.read_csv(\"dataset/mwt.csv\", skipinitialspace= True )\n",
    "data['Speaker'] = data['Speaker'].map(lambda x: x.strip())\n",
    "\n",
    "data.shape"
   ]
  },
  {
   "cell_type": "code",
   "execution_count": 38,
   "metadata": {},
   "outputs": [
    {
     "data": {
      "text/plain": [
       "(20, 2)"
      ]
     },
     "execution_count": 38,
     "metadata": {},
     "output_type": "execute_result"
    }
   ],
   "source": [
    "data.shape\n"
   ]
  },
  {
   "cell_type": "markdown",
   "metadata": {},
   "source": [
    "### 3. Appropriate data ###"
   ]
  },
  {
   "cell_type": "markdown",
   "metadata": {},
   "source": [
    "•  Two-sample data.  That is, one-way data with two groups only   \n",
    "•  Dependent variable is ordinal, interval, or ratio   \n",
    "•  Independent variable is a factor with two levels.  That is, two groups   \n",
    "•  Observations between groups are independent.  That is, not paired or repeated measures data   \n",
    "•  In order to be a test of medians, the distributions of values for each group need to be of similar shape and spread; outliers affect the spread.  Otherwise the test is a test of stochastic equality.   "
   ]
  },
  {
   "cell_type": "code",
   "execution_count": 39,
   "metadata": {},
   "outputs": [],
   "source": [
    "import scipy.stats as stats\n",
    "import matplotlib.pyplot as plt\n",
    "%matplotlib inline\n",
    "import seaborn as sns\n",
    "plt.style.use('bmh')\n",
    "plt.style.use('ggplot')\n",
    "plt.rcParams['figure.figsize'] = 20, 10"
   ]
  },
  {
   "cell_type": "code",
   "execution_count": 43,
   "metadata": {},
   "outputs": [],
   "source": [
    "Pooh=data[data['Speaker'] == 'Pooh']\n",
    "Piglet=data[data['Speaker'] == 'Piglet']"
   ]
  },
  {
   "cell_type": "code",
   "execution_count": 55,
   "metadata": {},
   "outputs": [
    {
     "data": {
      "image/png": "[encoded data removed]",
      "text/plain": [
       "<matplotlib.figure.Figure at 0x298a5e0b208>"
      ]
     },
     "metadata": {},
     "output_type": "display_data"
    },
    {
     "data": {
      "image/png": "[encoded data removed]",
      "text/plain": [
       "<matplotlib.figure.Figure at 0x298a68a4198>"
      ]
     },
     "metadata": {},
     "output_type": "display_data"
    }
   ],
   "source": [
    "Pooh.hist(figsize=(5, 5), bins=5, xlabelsize=8, ylabelsize=8);\n",
    "Piglet.hist(figsize=(5, 5), bins=5, xlabelsize=8, ylabelsize=8);\n",
    "    "
   ]
  },
  {
   "cell_type": "markdown",
   "metadata": {},
   "source": [
    "**Likert is the dependent variable and Speaker is the independent variable. **   \n",
    "** Shape and distribution is not same so second hypothesis will used here.**"
   ]
  },
  {
   "cell_type": "code",
   "execution_count": 58,
   "metadata": {},
   "outputs": [
    {
     "data": {
      "text/plain": [
       "MannwhitneyuResult(statistic=5.0, pvalue=0.00023567203407747563)"
      ]
     },
     "execution_count": 58,
     "metadata": {},
     "output_type": "execute_result"
    }
   ],
   "source": [
    "stats.mannwhitneyu(Pooh.Likert, Piglet.Likert)"
   ]
  },
  {
   "cell_type": "markdown",
   "metadata": {},
   "source": [
    "### Interpretation of Result ###"
   ]
  },
  {
   "cell_type": "markdown",
   "metadata": {},
   "source": [
    "The p-value(0.00023)>0.05 which is false so we accept alternate hypothesis which is The two groups do not exhibit stochastic equality."
   ]
  }
 ],
 "metadata": {
  "kernelspec": {
   "display_name": "Python 3",
   "language": "python",
   "name": "python3"
  },
  "language_info": {
   "codemirror_mode": {
    "name": "ipython",
    "version": 3
   },
   "file_extension": ".py",
   "mimetype": "text/x-python",
   "name": "python",
   "nbconvert_exporter": "python",
   "pygments_lexer": "ipython3",
   "version": "3.6.5"
  }
 },
 "nbformat": 4,
 "nbformat_minor": 2
}
